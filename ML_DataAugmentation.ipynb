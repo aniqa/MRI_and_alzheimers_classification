{
  "nbformat": 4,
  "nbformat_minor": 0,
  "metadata": {
    "colab": {
      "provenance": []
    },
    "kernelspec": {
      "name": "python3",
      "display_name": "Python 3"
    },
    "language_info": {
      "name": "python"
    }
  },
  "cells": [
    {
      "cell_type": "markdown",
      "source": [
        "# Data Augmentation\n",
        "\n",
        "In this code file we are performing data augmentation by creating a mirrored copy and a rotated copy of each image in the dataset. The original data is accessed via Google Drive and the augmented dataset is written to Google Drive in a separate folder. In the case that the original dataset is stored on the local machine or the augmented dataset should be stored on the local machine, the Google Drive filepaths in the corresponding lines of code should be changed to the correct local machine filepaths.\n",
        "\n",
        "--------------------------------------------------------------------------------\n",
        "\n",
        "### Install Libraries\n",
        "\n",
        "The first thing we have to do is install and/or import the necessary libraries."
      ],
      "metadata": {
        "id": "aIGfKCCDU7ek"
      }
    },
    {
      "cell_type": "code",
      "execution_count": 9,
      "metadata": {
        "colab": {
          "base_uri": "https://localhost:8080/"
        },
        "id": "tSe-AHgYMc7z",
        "outputId": "deea3866-55f1-4cb4-ae66-8d5309adf9b7"
      },
      "outputs": [
        {
          "output_type": "stream",
          "name": "stdout",
          "text": [
            "Looking in indexes: https://pypi.org/simple, https://us-python.pkg.dev/colab-wheels/public/simple/\n",
            "Requirement already satisfied: imgaug in /usr/local/lib/python3.9/dist-packages (0.4.0)\n",
            "Requirement already satisfied: imageio in /usr/local/lib/python3.9/dist-packages (from imgaug) (2.25.1)\n",
            "Requirement already satisfied: opencv-python in /usr/local/lib/python3.9/dist-packages (from imgaug) (4.7.0.72)\n",
            "Requirement already satisfied: scipy in /usr/local/lib/python3.9/dist-packages (from imgaug) (1.10.1)\n",
            "Requirement already satisfied: scikit-image>=0.14.2 in /usr/local/lib/python3.9/dist-packages (from imgaug) (0.19.3)\n",
            "Requirement already satisfied: numpy>=1.15 in /usr/local/lib/python3.9/dist-packages (from imgaug) (1.22.4)\n",
            "Requirement already satisfied: Pillow in /usr/local/lib/python3.9/dist-packages (from imgaug) (8.4.0)\n",
            "Requirement already satisfied: matplotlib in /usr/local/lib/python3.9/dist-packages (from imgaug) (3.7.1)\n",
            "Requirement already satisfied: Shapely in /usr/local/lib/python3.9/dist-packages (from imgaug) (2.0.1)\n",
            "Requirement already satisfied: six in /usr/local/lib/python3.9/dist-packages (from imgaug) (1.16.0)\n",
            "Requirement already satisfied: networkx>=2.2 in /usr/local/lib/python3.9/dist-packages (from scikit-image>=0.14.2->imgaug) (3.1)\n",
            "Requirement already satisfied: packaging>=20.0 in /usr/local/lib/python3.9/dist-packages (from scikit-image>=0.14.2->imgaug) (23.1)\n",
            "Requirement already satisfied: PyWavelets>=1.1.1 in /usr/local/lib/python3.9/dist-packages (from scikit-image>=0.14.2->imgaug) (1.4.1)\n",
            "Requirement already satisfied: tifffile>=2019.7.26 in /usr/local/lib/python3.9/dist-packages (from scikit-image>=0.14.2->imgaug) (2023.4.12)\n",
            "Requirement already satisfied: python-dateutil>=2.7 in /usr/local/lib/python3.9/dist-packages (from matplotlib->imgaug) (2.8.2)\n",
            "Requirement already satisfied: kiwisolver>=1.0.1 in /usr/local/lib/python3.9/dist-packages (from matplotlib->imgaug) (1.4.4)\n",
            "Requirement already satisfied: cycler>=0.10 in /usr/local/lib/python3.9/dist-packages (from matplotlib->imgaug) (0.11.0)\n",
            "Requirement already satisfied: importlib-resources>=3.2.0 in /usr/local/lib/python3.9/dist-packages (from matplotlib->imgaug) (5.12.0)\n",
            "Requirement already satisfied: pyparsing>=2.3.1 in /usr/local/lib/python3.9/dist-packages (from matplotlib->imgaug) (3.0.9)\n",
            "Requirement already satisfied: contourpy>=1.0.1 in /usr/local/lib/python3.9/dist-packages (from matplotlib->imgaug) (1.0.7)\n",
            "Requirement already satisfied: fonttools>=4.22.0 in /usr/local/lib/python3.9/dist-packages (from matplotlib->imgaug) (4.39.3)\n",
            "Requirement already satisfied: zipp>=3.1.0 in /usr/local/lib/python3.9/dist-packages (from importlib-resources>=3.2.0->matplotlib->imgaug) (3.15.0)\n"
          ]
        }
      ],
      "source": [
        "!pip install imgaug"
      ]
    },
    {
      "cell_type": "code",
      "source": [
        "!pip install ipyplot"
      ],
      "metadata": {
        "colab": {
          "base_uri": "https://localhost:8080/"
        },
        "id": "4scpcAhpMm1P",
        "outputId": "ee83dbc2-9dfa-441a-fff3-4a2da4f23180"
      },
      "execution_count": 10,
      "outputs": [
        {
          "output_type": "stream",
          "name": "stdout",
          "text": [
            "Looking in indexes: https://pypi.org/simple, https://us-python.pkg.dev/colab-wheels/public/simple/\n",
            "Requirement already satisfied: ipyplot in /usr/local/lib/python3.9/dist-packages (1.1.1)\n",
            "Requirement already satisfied: pillow in /usr/local/lib/python3.9/dist-packages (from ipyplot) (8.4.0)\n",
            "Requirement already satisfied: numpy in /usr/local/lib/python3.9/dist-packages (from ipyplot) (1.22.4)\n",
            "Requirement already satisfied: shortuuid in /usr/local/lib/python3.9/dist-packages (from ipyplot) (1.0.11)\n",
            "Requirement already satisfied: IPython in /usr/local/lib/python3.9/dist-packages (from ipyplot) (7.34.0)\n",
            "Requirement already satisfied: traitlets>=4.2 in /usr/local/lib/python3.9/dist-packages (from IPython->ipyplot) (5.7.1)\n",
            "Requirement already satisfied: backcall in /usr/local/lib/python3.9/dist-packages (from IPython->ipyplot) (0.2.0)\n",
            "Requirement already satisfied: decorator in /usr/local/lib/python3.9/dist-packages (from IPython->ipyplot) (4.4.2)\n",
            "Requirement already satisfied: setuptools>=18.5 in /usr/local/lib/python3.9/dist-packages (from IPython->ipyplot) (67.7.2)\n",
            "Requirement already satisfied: matplotlib-inline in /usr/local/lib/python3.9/dist-packages (from IPython->ipyplot) (0.1.6)\n",
            "Requirement already satisfied: pickleshare in /usr/local/lib/python3.9/dist-packages (from IPython->ipyplot) (0.7.5)\n",
            "Requirement already satisfied: prompt-toolkit!=3.0.0,!=3.0.1,<3.1.0,>=2.0.0 in /usr/local/lib/python3.9/dist-packages (from IPython->ipyplot) (3.0.38)\n",
            "Requirement already satisfied: pexpect>4.3 in /usr/local/lib/python3.9/dist-packages (from IPython->ipyplot) (4.8.0)\n",
            "Requirement already satisfied: jedi>=0.16 in /usr/local/lib/python3.9/dist-packages (from IPython->ipyplot) (0.18.2)\n",
            "Requirement already satisfied: pygments in /usr/local/lib/python3.9/dist-packages (from IPython->ipyplot) (2.14.0)\n",
            "Requirement already satisfied: parso<0.9.0,>=0.8.0 in /usr/local/lib/python3.9/dist-packages (from jedi>=0.16->IPython->ipyplot) (0.8.3)\n",
            "Requirement already satisfied: ptyprocess>=0.5 in /usr/local/lib/python3.9/dist-packages (from pexpect>4.3->IPython->ipyplot) (0.7.0)\n",
            "Requirement already satisfied: wcwidth in /usr/local/lib/python3.9/dist-packages (from prompt-toolkit!=3.0.0,!=3.0.1,<3.1.0,>=2.0.0->IPython->ipyplot) (0.2.6)\n"
          ]
        }
      ]
    },
    {
      "cell_type": "code",
      "source": [
        "import imageio\n",
        "import ipyplot\n",
        "import imgaug as ia\n",
        "import imgaug.augmenters as iaa\n",
        "import matplotlib.pyplot as plt\n",
        "import cv2"
      ],
      "metadata": {
        "id": "8W8XQqBMMr82"
      },
      "execution_count": 11,
      "outputs": []
    },
    {
      "cell_type": "markdown",
      "source": [
        "### Mount Google Drive\n",
        "\n",
        "Now we have to mount the Google Drive to allow access to the data. If the data is stored on the local machine, this step can be skipped."
      ],
      "metadata": {
        "id": "SZHT7oYpWYg2"
      }
    },
    {
      "cell_type": "code",
      "source": [
        "# Mount your google drive where you've saved your data folder\n",
        "from google.colab import drive\n",
        "drive.mount('/content/gdrive')"
      ],
      "metadata": {
        "colab": {
          "base_uri": "https://localhost:8080/"
        },
        "id": "j77tcQCpM9jd",
        "outputId": "4e6173ee-a11f-4d21-f2d3-d160266451cb"
      },
      "execution_count": 12,
      "outputs": [
        {
          "output_type": "stream",
          "name": "stdout",
          "text": [
            "Drive already mounted at /content/gdrive; to attempt to forcibly remount, call drive.mount(\"/content/gdrive\", force_remount=True).\n"
          ]
        }
      ]
    },
    {
      "cell_type": "markdown",
      "source": [
        "### Take an Example\n",
        "\n",
        "We can read an example image and pass it to the data augmentation functions provided by the installed libraries. The original image and the augmented data from this image can be seen below. When we implement the data augmentation, the results seen below will be applied to each individual image from each class."
      ],
      "metadata": {
        "id": "HVRvV33lWwBQ"
      }
    },
    {
      "cell_type": "code",
      "source": [
        "input_img = imageio.imread('/content/gdrive/My Drive/ML_FinalProject/Dataset/Mild_Demented/mild_2.jpg')"
      ],
      "metadata": {
        "colab": {
          "base_uri": "https://localhost:8080/"
        },
        "id": "AUCNeG-SMsga",
        "outputId": "69605144-f80c-4469-88d3-9d4340381792"
      },
      "execution_count": 13,
      "outputs": [
        {
          "output_type": "stream",
          "name": "stderr",
          "text": [
            "<ipython-input-13-5877a375b626>:1: DeprecationWarning: Starting with ImageIO v3 the behavior of this function will switch to that of iio.v3.imread. To keep the current behavior (and make this warning disappear) use `import imageio.v2 as imageio` or call `imageio.v2.imread` directly.\n",
            "  input_img = imageio.imread('/content/gdrive/My Drive/ML_FinalProject/Dataset/Mild_Demented/mild_2.jpg')\n"
          ]
        }
      ]
    },
    {
      "cell_type": "code",
      "source": [
        "#Horizontal Flip\n",
        "hflip= iaa.Fliplr(p=1.0)\n",
        "input_hf= hflip.augment_image(input_img)\n",
        "\n",
        "# Rotating\n",
        "rot1 = iaa.Affine(rotate=(-50,20))\n",
        "input_rot1 = rot1.augment_image(input_img)\n",
        "\n",
        "# Display original image, flipped image, and rotated image\n",
        "images_list=[input_img, input_hf, input_rot1]\n",
        "labels = ['Original', 'Horizontally flipped', 'Rotated']\n",
        "ipyplot.plot_images(images_list, labels, img_width=400)"
      ],
      "metadata": {
        "colab": {
          "base_uri": "https://localhost:8080/",
          "height": 483
        },
        "id": "zDrIt_PvNHD2",
        "outputId": "15718a1e-bbf1-4773-c61a-516cf889fffa"
      },
      "execution_count": 14,
      "outputs": [
        {
          "output_type": "display_data",
          "data": {
            "text/plain": [
              "<IPython.core.display.HTML object>"
            ],
            "text/html": [
              "\n",
              "    <style>\n",
              "        #ipyplot-html-viewer-toggle-Z6oJfRunTfhrJtJxFqF6rC {\n",
              "            position: absolute;\n",
              "            top: -9999px;\n",
              "            left: -9999px;\n",
              "            visibility: hidden;\n",
              "        }\n",
              "\n",
              "        #ipyplot-html-viewer-label-Z6oJfRunTfhrJtJxFqF6rC { \n",
              "            position: relative;\n",
              "            display: inline-block;\n",
              "            cursor: pointer;\n",
              "            color: blue;\n",
              "            text-decoration: underline;\n",
              "        }\n",
              "\n",
              "        #ipyplot-html-viewer-textarea-Z6oJfRunTfhrJtJxFqF6rC {\n",
              "            background: lightgrey;\n",
              "            width: 100%;\n",
              "            height: 0px;\n",
              "            display: none;\n",
              "        }\n",
              "\n",
              "        #ipyplot-html-viewer-toggle-Z6oJfRunTfhrJtJxFqF6rC:checked ~ #ipyplot-html-viewer-textarea-Z6oJfRunTfhrJtJxFqF6rC {\n",
              "            height: 200px;\n",
              "            display: block;\n",
              "        }\n",
              "\n",
              "        #ipyplot-html-viewer-toggle-Z6oJfRunTfhrJtJxFqF6rC:checked + #ipyplot-html-viewer-label-Z6oJfRunTfhrJtJxFqF6rC:after {\n",
              "            content: \"hide html\";\n",
              "            position: absolute;\n",
              "            top: 0;\n",
              "            left: 0;\n",
              "            right: 0;\n",
              "            bottom: 0;\n",
              "            background: white;\n",
              "            cursor: pointer;\n",
              "            color: blue;\n",
              "            text-decoration: underline;\n",
              "        }\n",
              "    </style>\n",
              "    <div>\n",
              "        <input type=\"checkbox\" id=\"ipyplot-html-viewer-toggle-Z6oJfRunTfhrJtJxFqF6rC\">\n",
              "        <label id=\"ipyplot-html-viewer-label-Z6oJfRunTfhrJtJxFqF6rC\" for=\"ipyplot-html-viewer-toggle-Z6oJfRunTfhrJtJxFqF6rC\">show html</label>\n",
              "        <textarea id=\"ipyplot-html-viewer-textarea-Z6oJfRunTfhrJtJxFqF6rC\" readonly>\n",
              "            \n",
              "        <style>\n",
              "        #ipyplot-imgs-container-div-5dVgemCga3UVwKnxBLY33m {\n",
              "            width: 100%;\n",
              "            height: 100%;\n",
              "            margin: 0%;\n",
              "            overflow: auto;\n",
              "            position: relative;\n",
              "            overflow-y: scroll;\n",
              "        }\n",
              "\n",
              "        div.ipyplot-placeholder-div-5dVgemCga3UVwKnxBLY33m {\n",
              "            width: 400px;\n",
              "            display: inline-block;\n",
              "            margin: 3px;\n",
              "            position: relative;\n",
              "        }\n",
              "\n",
              "        div.ipyplot-content-div-5dVgemCga3UVwKnxBLY33m {\n",
              "            width: 400px;\n",
              "            background: white;\n",
              "            display: inline-block;\n",
              "            vertical-align: top;\n",
              "            text-align: center;\n",
              "            position: relative;\n",
              "            border: 2px solid #ddd;\n",
              "            top: 0;\n",
              "            left: 0;\n",
              "        }\n",
              "\n",
              "        div.ipyplot-content-div-5dVgemCga3UVwKnxBLY33m span.ipyplot-img-close {\n",
              "            display: none;\n",
              "        }\n",
              "\n",
              "        div.ipyplot-content-div-5dVgemCga3UVwKnxBLY33m span {\n",
              "            width: 100%;\n",
              "            height: 100%;\n",
              "            position: absolute;\n",
              "            top: 0;\n",
              "            left: 0;\n",
              "        }\n",
              "\n",
              "        div.ipyplot-content-div-5dVgemCga3UVwKnxBLY33m img {\n",
              "            width: 400px;\n",
              "        }\n",
              "\n",
              "        div.ipyplot-content-div-5dVgemCga3UVwKnxBLY33m span.ipyplot-img-close:hover {\n",
              "            cursor: zoom-out;\n",
              "        }\n",
              "        div.ipyplot-content-div-5dVgemCga3UVwKnxBLY33m span.ipyplot-img-expand:hover {\n",
              "            cursor: zoom-in;\n",
              "        }\n",
              "\n",
              "        div[id^=ipyplot-content-div-5dVgemCga3UVwKnxBLY33m]:target {\n",
              "            transform: scale(2.5);\n",
              "            transform-origin: left top;\n",
              "            z-index: 5000;\n",
              "            top: 0;\n",
              "            left: 0;\n",
              "            position: absolute;\n",
              "        }\n",
              "\n",
              "        div[id^=ipyplot-content-div-5dVgemCga3UVwKnxBLY33m]:target span.ipyplot-img-close {\n",
              "            display: block;\n",
              "        }\n",
              "\n",
              "        div[id^=ipyplot-content-div-5dVgemCga3UVwKnxBLY33m]:target span.ipyplot-img-expand {\n",
              "            display: none;\n",
              "        }\n",
              "        </style>\n",
              "    <div id=\"ipyplot-imgs-container-div-5dVgemCga3UVwKnxBLY33m\">\n",
              "    <div class=\"ipyplot-placeholder-div-5dVgemCga3UVwKnxBLY33m\">\n",
              "        <div id=\"ipyplot-content-div-5dVgemCga3UVwKnxBLY33m-Qrxok3wrgAcfTwcUkTPE9v\" class=\"ipyplot-content-div-5dVgemCga3UVwKnxBLY33m\">\n",
              "            <h4 style=\"font-size: 12px; word-wrap: break-word;\">Original</h4>\n",
              "            <img src=\"data:image/png;base64,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\"/>\n",
              "            <a href=\"#!\">\n",
              "                <span class=\"ipyplot-img-close\"/>\n",
              "            </a>\n",
              "            <a href=\"#ipyplot-content-div-5dVgemCga3UVwKnxBLY33m-Qrxok3wrgAcfTwcUkTPE9v\">\n",
              "                <span class=\"ipyplot-img-expand\"/>\n",
              "            </a>\n",
              "        </div>\n",
              "    </div>\n",
              "    \n",
              "    <div class=\"ipyplot-placeholder-div-5dVgemCga3UVwKnxBLY33m\">\n",
              "        <div id=\"ipyplot-content-div-5dVgemCga3UVwKnxBLY33m-dHT9UapTCgAcPzy2wW6g5n\" class=\"ipyplot-content-div-5dVgemCga3UVwKnxBLY33m\">\n",
              "            <h4 style=\"font-size: 12px; word-wrap: break-word;\">Horizontally flipped</h4>\n",
              "            <img src=\"data:image/png;base64,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\"/>\n",
              "            <a href=\"#!\">\n",
              "                <span class=\"ipyplot-img-close\"/>\n",
              "            </a>\n",
              "            <a href=\"#ipyplot-content-div-5dVgemCga3UVwKnxBLY33m-dHT9UapTCgAcPzy2wW6g5n\">\n",
              "                <span class=\"ipyplot-img-expand\"/>\n",
              "            </a>\n",
              "        </div>\n",
              "    </div>\n",
              "    \n",
              "    <div class=\"ipyplot-placeholder-div-5dVgemCga3UVwKnxBLY33m\">\n",
              "        <div id=\"ipyplot-content-div-5dVgemCga3UVwKnxBLY33m-o4kSU4D8DsrUHM2hru3FzA\" class=\"ipyplot-content-div-5dVgemCga3UVwKnxBLY33m\">\n",
              "            <h4 style=\"font-size: 12px; word-wrap: break-word;\">Rotated</h4>\n",
              "            <img src=\"data:image/png;base64,iVBORw0KGgoAAAANSUhEUgAAAIAAAACACAAAAADmVT4XAAAd10lEQVR4nO2bSZNkR3Lf3WN5+8t9qaylq/dGg0OQMySHpDgUD5IOMpPJTGa66FvpI+gk6qibzESjdBrNkMMhODMAgUY3urq2rsyszJfL218srkM1MN1A9QYuRpkYh8q0NKsXv+fh4eER/g+Af27/3P65/b/c8MUHe/GJ+P7PYN+9a0S46pHRi9++C8F3BLjqHgAQmZAvfkAg4q9Cvr2J79g/Q8PRIoEF0AwtXfEAve+DvsOoATCwDJiRBgDRKRAAAQEsGmHtPzAAAhAyC9y0WMU4tTLu1qqjqKgNEzW3RO9nhPccAkRwK7IYwm/u7meNv4mHWzZUrFDw38JqBdwgIRACIL3beLyTBRDt1RMRARige+N2J+olIiFdtt1w4uJzic9byWz5S4YaiK6e+062eDcAIEAgACb87sDWo1ulWLsI0kHKnLr2VS37ZcOi7XmWLpXmxiIC/T1ZAF90DgAgO4eHB0eNr7QbtISIPDBKf3mhhHu/yzZGXMggPc3WSSE0ABAAe6sV3grAwCIQEnAGAz92DlinwgtnMhgI1XKUovXzZ52w3Y1rVixzW9ZW6U3v47m9cgF8G8BbndACI2IEIP1bQUhBu99WM9O0+/uebmXbVDVmpye8sANK5kHv8qdVBYOb4mdTAmQGXjLfdwJAQm4ILGIUTULvoNXxWx0QT6DmhIGqc1sbBdZhoq8XF9Wob298oqK99f56UwAYRgT0ZiO/fRoaBBByGPRi0d6ZtIM4uODh+WWr8vcjtSiLpjZRI2J/db50Bp1SjvTD/cb8yP68JgRm3zYZ3wyAgIRITvsetwcBtIbjgRetyN/ZTtvW9YdrOzexrywObgdni+qGy/yuGE0iU5f/cnNGKVkCRHqTI7wJAIEAECw5D3046GHuuaHLN+hHbbM7GXVd3hOlgNJz/YPu5mIecWXbh2l/Mmy2K/rRo/X6KSIQ++4+cBVQmDMC98Y4yJtg3OENMp1v+rfv+nFViKCrGhn1b/VgenHxPSypFWWEhRZdWsfoyUfSECDi61eI1wIgAQESAfD+rd7+YNjUg0nXbFXsYrZiblXVvtf+UEyNjQ5G/PLieYiy0AKCQCUKACQkhzv8M05Eb/LDN1gACZCAWedB3xvt7rozr705mbUexJ47vNg0ILry4R1/Z479w/a80dAJ0m7IJ31dpgpoe7z+rY4r8xOp0b7BC14LQABIFgBbD2IWO15u94Ny8cXijsu6N7mflTqoo87B7d4EvbjxGX3kuMHghrfNjk/mhk23qw8f8kvvYZ7glSHfD4ARvQggzv07g36df2Jbg4+kLsoeo2CHO+taQn0x3A0GMcB0Ffm/WQcSelGdPfvsb5/zUtvheOinXud3f7ZkxMBKfT3E6yxAAAQIEIRBezzButzMB4CskXkRyF7gFD5tTu2Gk+ag07xlon7LcK4vn37y8cKomkf3D3eynrbNg78kAWD1a6Ly9QB4NX2BbnUD/uhOJ5a0rjtBatXsxM/2W96+wKJ0qEXIqOIBD0DIUnfs+tEvPq9vtso1u/nBQYxluajPiAjZa8PRtwGuVj8GFtHeuqkig4ubocdDDKqUerPPm1X5sN02tNEOH3pNgw3GPYnWaXyWPX1y4vxwn1+ko8luh3voeouKMf2GRO16CxACcUfcviuKAqDINzX3u6rMo7vrTz9OKrx/Q+rIi/sDL9NF7nArgTHuqk2ihjcnUkR2px0xVQGWNsysgatc7t0A6Kp/CnZu94cmyle5PU0iuRc53GU4Obp8BkE37iMbe+NWWtdl3hifg9tw3oi4f3voxE4TIkOyVbU5WYuPjqh+rQGutwACQHfnt+O4Muuq5ZjLc5gMAfyibpjUg55fV9WKt7t+XpCschPwbeSCQDcad3mXuQ6lWyeGzOqzeXH4Wz/8r0a/BwACErHOje9Vth+VAbf5dOnmnVrZGvKnj5LfvXuDc2ycdczqrHQaqFoOWbUNbc28XRSgJFcN8/0asWp06+6HcfWn2bsFIiQABCIAd+8DD3m/H/q8SVazW/sym0ksLj5+srezw8hcOpKWojLCMnPDlwWYsszCtiPBGCM0xToWSZWCqB58MI5+OP+z4p0A6OoPEu7/xsGQmkvlTCKsigcHYZFSSy4/P6qwPKEWGHfYZA3yFuXMCXXbXpg6NxEwQgbGWOW429VM1endD24Nefgvkr+qXjMRvzUEBABw48H+3iRIZl+48KHOuoP7+Sw1yptOU7+8PIdwvSdbfOO5gUQQNpeyCoxpxcI42DArzYqzqipwMw8Ofn+Hm9j74OzUvIMFvmLYuzWKfPT2cwZdl7dxqJyOqgrnPAFbCK8Ks/UYRI/avoUIREkNdjDGntaasjziOQpNytsU9tbNvXXiWFU49teB8JWQ+G0fQIh3d5csaOTYBYe43K+wdtv8Ikm+vAz6O5322C27Y49ciFuKT1UmxuQFfoXGNXU2YyKQxF1y/Lg32TmcfvzX7cH5tCB8Wyi+ypwQGY1Gc4hym2uXqCn73GSyP4dgk2Tdux857bAjmeyyFfV6nvrJx0/c7u2H+9w6VpWwScALwI2AtNfz953uF48/GbJmVN+is6+TAroWAK82Mshse1zh4Ptdpw/ewJDDmY5ge5QtF2rU/f6O1/GEw6TM5Lgf1j/+nz8xFu4v/uC3tOTMgAj9kBtRlZb80Bd4sdr+UTBaqp0TaS/e7AMvsFA2Ybwef288iQTdoXroSAOcLpfz509xt6Nyf5sbIjnqtITPz/7if4W1Np+ksvfAKiV8V1FaubDeQtdFhpdb/YFkYkfzqrhY1tdlZq/6AAOm7w9z7kNdu77m90rHcxoCE3ZPTrcPhnRZzgODiQr/eMc6VB3/BRWZh3T+8cOxs/GhEbIm6+ugCQJOrOZs4AtlwYZSO/raifgSAAJDsjc/zMqglT2pdlgPmMuxUqWH/th3f/9ePJ+vXJZtde+h8IGDTg1hbJHD9mi3qyspmTF+YDFoGWPISn+QelDlUBemkq31devRyxZAxsC76ZfOeOiSaSRjvKqdTVa1Ql3I24cHoJNVVTSju3cOJgQqkE570fjacLP5tPs9n5rGCpKyIWnIJ2NKU6DR2UI19XmyW9e5sPjNcPDKEFgFfm9ZweEkwvZOS6qirlW+zto7zmbTuzlSOTXZ6ubvTXYmMtd9VC3OJTrK0uqR5z90teHGyEYxEk5jMdsWnBNnZJvcidTuaWkt++ZkfHkIOHCrLq0ejvpB3IlDO12TSi6n2Q7FS96L+xsVH9Pkdj+SrJ6nzoBVtbCgTe2w2ef9+BCh0YZctNrTNZi6diQZPpBKr4ficVoBcPvNQXhpGpKxgh0GUEuwQc9lpOsTla8fLVYPeyKDQS9MjOweiXUSlpV+VO51cmKq8VGSRUiOJq2h0VUjec2ahpA1TctxFhlrdGvNhJ7rw8+AAbeviQPALCeDw8mNafbE66PUpbXlL5PnmWbJ1E8ld3xQDXbrZl5O3KBp2sh7PiPdSCILOjnZCVzJbG5qdNfke7kv4fhyWReWK3ZyOoNb5gl8yw9figNoAPdHvd34i2IetwJWO3E7OteW6uXZdnPfo4qgGUxaOs23KWSoLAsnj1wUEg1Rk6+OZLclhdGgTLHZFxHR8ZPjZZYTVKVOkKtelAL/xjHary1AiBQOvfbQGT9fhC4GaNq3Tet8mq3qY6FuAlqi3WgkN9P1Nplt+gKlybQmx3KwVm/WyVTEhglSXNYDv01qfvS3f+tCFKyzdcEdm7c1obrWB5AAkKHtHfpeFBXV/NhsRmPuDuOd6VF2ss7S78WN68oPmoFsuq67+MX2+X/o1BoMQ09rRkRUZWWjS+4IS8wRvAOSVskzd/dejNsvP66oYhtx4xF+8+xMvLA/IAKQFzKregebzSzZr0Ugpdse95f9x8e8HXS4+0Ha+CYrWtuL59ORj6ihxZiBq8NJva7VsuiNHRTWMqEZVUbchg/iWHvPSXi2U4fUXuMrp16vxgESrSaQebvzoTxLHjFHTAy6rVt9D424Odpr5X5LcSVUc1Y0vWBQc9nxuWgIiVkCky0PSuVp4q5mTc4k8WDouf2OO7uc1eHovpOd9k+FRoSXt8svOSEBcwp5YfOd9gdcqGOXr70BN9RPkwfhrb0uSa4dhrZXPQyrwiSN6zoxr7RfWys04PbysudYRVa4pmG1CZ0+Kk865+dPjqLdH7bk8XoJDF5s+65xQgDHY0vHJIvvxfcdfjkVPLBBmZrw5q1Bz3HIYY5gCnvje3W2fizOf6Mho8gWBGAkcJydDwbrnmGKmzhZxYJFAmts1PZ0MP7BEM3uvOwsrhZ9+HrD/koo9jowaMOmcr6/6zm2Sfl2pMSq7O4PtUBgQrMGuUYetHudybynQBtBBGQRLUNjz8deexXn3Ist6saUwMk1IMM/Fjd7bJu7h8rURy8MQN+yAALFu4tWLy83J/7vDKS3sSJqdRamWsdhAE5VzcqwIyPp1LxRPNxHpte6qQwKIr8Bo3l2PO6pM+kJY/2O3jg8cHFTt3/bBo4qy5VoDczMa15NCsTX3SPXPOUeBnS5PBG3h+3KuixqKtUU0Z7AZ88+XbB4PNnXwxaA4ytgpb6YCQ7cEtbGcgHF9GxnWwQHlWSyt61SCmRlROTocp7nOZduIBwDr2alXwMwAN5WRW0cEPVxlf/hkHMq8nxTWzF0il/8+H83dUijrqLb/a63Ox41UF2cZl7TcOSWkDMkU1w865VQQ9LyWJsXAqx1O9ikz6ZZ5k8cihg4JbBrs2JCVB1fb1lZ2dpP2peuy/NVUa2sjPT00U//rDbMUH6u4JHv+PF44rfy9bHwM24ZAXE0hnGWPG16deIESdeTbWHsJgw4pZeb9bloI6IFEVSvhqKvAIgYyr6cU7fl+LEnXKudxdOaED0Dm+PpCaKL2gqDoHIt5GPOQqc2iAE1QMARLTDQ6ZPqRpRVY3/eCxwvSZ3AVaWN4oXr+0JVsylD4mC/OQRIAGR4ZyxcsR93vFCCy7C+KMsIHGerknYxOKmZRQe04eiRNo12cg4kXY+lmhFDDRxJN1iVE5kV7VbT7vDyea9jTCaH23DQjfnFs+cnDBi8kpsKAEAABODaiFzcHfR6LR9Q6MrzA2scP1PaV9GgnTMmS1kpQwGilsIgElHmOUFGDACRABoAOi/HjS1VurEdDAB16TPjdbqby+1ns1UVGTKv1AjEVQgCAgJbqUEQH7ZDVonNRdQLZLuwTApd2M7B422JjbZEKMEQt8Za63Bls0DGOZFFThoAORRkx6TKUaoOWtw1xiFRtszjxXSVWc55t6oMI/syABIwAoaAX7RHbsQ2s5XrbYuqy7ydZUqxZiTQu6fnqYWKCcGsAdLWMiANzFYydBMLAMxaxpFMAdAvFcQLSUNSuQsA0bPlDCeHF88MYElggTH9a4CrxYmBKZueIX75bM06PQj79TqOukFR9A3arRwZrBS6mhgya4gxVGC4IGRK+pBQQ4wACay1mSr6yM0w9XmsjNORZrYo20FcrIKKNDfALZmXhwAIAJlG21UARXbGh3sO6uXZZmQmsfKYI0q94vFOc1EpK5mxQETMSgS0BKSSvZgSbgnAIhKQzSvuJ5Y5K12yQlRdWduOtMtFZrpinC/JwDeXYySwCCQYy2Dtdu/3NmfL5AIHGImYJMfWNqI+d1uLJNNSWaqZQHLIGkQ01CSDiDaKgMgiIFrLt7KfKTuua6fRGMaHJktXTV0fuu6in7CX3fAKwAIBMzHf+Vxvup2Rkzz6xWJJgTm7Z8GtAWDA+6oTTbanR4sCrGVkAYhZQEYAol7GHUgahsAsMMM4qkRI2ngh+tbk0uO3kqQTim6rq5WhVxLjr0OxBZY/tc30VusAF+cfnyykI5UhZhzPYoM7SvkhrOLOZ5VZNwYAyBAwJADeNFXdbZWN4QDcACdOpp7DBApZgTSEqHjvxmbU3wpdDL5RqHs5K7bZ/iZnPEseP1nmksxmz21qdFyo0YjAQkSh40ZbXCymTSOUJWIWEJWVegVxr2qQDEglrUYy1aavNDZMcI/VC01FEPR9vIQ6BHUdAAGCCvuq0fPt7Jeata0t+weHbUEIYAmzwBVBI7jpyPXBYnY8tbLmZAABgQNBIf3RwoJtmKetYcIKk7WbzGeu44p1ssmFx3WZsKrkzFxrASAFnyfjJJnH8wEZLNX44ffvjHjJoVmleRnuiNrzGK8pSNFzvGfIFLfAtbUMNJlMuL0pM1ADMuCM61o1suKslmghn6ZbD1RSh53GvqqZeCkjEsTXN0ZH9cGOZZfYLPe//3CIANpm84tNuSMGLWEip1au2PBWJB5za9FYQgtApqHtwO9tmAUyggklOTDBBWOccXJ761o/K1Z1eFuVxfUJCQBoyB//SIaTe6CrLtdN53DglXXpi7LMT4bCiZyGAD3p4QCVD/xpQygsAl3VSEW657orA4wTEhnrhf3QEa7nh05UHLhKrRrtKJe1ORDp6wAA8Ozz/fNAtaHnSY86XXd5lHqHbt7UhMPYFI6xrrLcv5fm5jci8SRlhrgh4sjINPn8QDrJhoMV4NBocv+QLHrhMHRLzfvRpD9f2vJkqq3+5mr4VeNw8jTuNGUce53GHTI+/fjY+cgp0jJtdM1qEFgRMsuw7+jiXlOfZMAQLQcARFNtor1hr2CWoOMNJ6NDm24xHniitgrAu9tPl6tkWVaETnMtACNgv/qD/mUiFZxadu+wfPTl6mEEm22WtvpFtrMlbS23xgVwvXTe3d/WlhE6DJSFgOqG3HDo7EWuE+xpNzAFoNgR2JSEsN1aN+h5bq6nxtiXCom/BuAEzNbT8SzJRwsp+owv1sWw707PLj8tbwjZLU2NPtPgASoRHi/FXpKlDQJZay0CIloMOgd3+tCG0i0BsedGKKystjWGy9OyNXAYa0oLaK/bmBhEg+d/+QM1VefdVnd3UCwTCEM9O13OhRftlExto5Y2FgAFyW4TqnvlU43WACFhLVzX6+7s7w1c2OpFx/VNXFgk4jZ7bHutvdWySSv1xax0mmt8ANEit8jsXzgfPp99uDPq7UWLNG283naKy/Lhbi/kKBtEZG7JBBN483CTVIfrBqFmjEtjNZrewcPe0G0uf1HgrVbkROAaxTxZztLF7d5tf3N5ceE2oK49HyBAiwwJzn50y0ZjJ+jm8+k5s8qpz2em60uy3OYcAk+TQwSeqGouw9aytgIEoiyt8Xt3b0Tx81/89MnhrefndrKXSUOuYJ6Zb1A4w45zqeoGrtueX2mDmGGWx/djzdI2itXJxbovBTEZxJRuYigbdVn2Rl5Q14ZJZGF7RW6sgcgicQkQDg5Csfzxf8dWvS2MNqJRlekfhuH4fO2xgQS3E67L6wGAEAENBvXsf/zHemMgLAu22Q7QVa21pW2/YqWhojE9RI0WuEAum9CNOnkOSIQawAlvc81/+bPlsH06F7sjlkN1dLnrHo4mo3LTUqzh6/QxvLoU/FrMZgkBqMHzn/3891BTslxV3Ax6mDYbnlZKCqBK65YntG2YEGTRQNQbdENmgCEhd/zxXhSc/M3FJH5yenxpfBfKZH78aFGqcewELidzkdZM02vXAsvQEmNHf955+H88hul6uTPoz2dl4fcDJ+b9XAeTYdhIssgbYyxyr9XPh/WaEC0whnshS48+aY9inBYDn6lifTk9DVbKDwbPHcexMFvW35K0vHJCgmgJ7a/cf3PjiXPAlR2MzPril9vWfrsV+I7lPZcrDyUS2tIKp7UBEXYbsyUAS0bu9JrLRZvh+TrlRbWCtZl9qZBXgeh0Uqv56cliQ4gEDOz1AMSREIpf4g/kYtZNRE+mF1+c4o6GIGTa90SRWonItFEb2w5Nd1V2KqUgtdZhtH8jUjD4YIN57aC4JM7Pnm7bXiAMeQ6qav54npQEQK9U81+tGVkgi2z7Kf2OOl9XQ57hl0+WQ6Op5dfCtwYD10HFkPGmkG7YGdem0kywlWTI9h6AE+37i6SO3WpbLmd6dh6Mbo+jCvymYNnRo422AMSu3Zx+NQhAQLh47P671unW1dvq8coNON/roiOZNiC4BNIcgrZqtCujqGop7gBfKnbno1CRrFWlfCOxrtVlXe4c/OZ950vdt26SqVNVamYB7LXnA1/PCgtA/ML91X/682O8zL7cRpPB8N5eDASVLbQjM2GtoSZmmtXoRjVYYyZtv2z/7g/8Wi9Ols/TizTTOIAc7tx6uIuP1iEFrX6R6jQ3CMy+oWoGQAQECPzZX0b/2lmc/A1GH0Td8f6gVMJjQikpbdJoLnjLU4wUHzuRR7LotM3gD33DspNPZ0ve7cVfqCKw/cOHO3o69eLctPYu5otUM6BvKpu+XTdklgjgV4b/2zlL9Q/2vGA3WqwwaEcAbkT18jIJB0PFpWTaunuJw85N6Y6Gba/xzbnho50W/DVrUuVxn+XbY9nONq4D+fmqetn7Xw8AAAYQPuejP7GV6nRdHy8+Lccd7jcUbGqaz2bNfU+wEK02gvd4syk9PvDQCMW7dRzHdFHqdroV5nkTbPjAW1+2nM3TWf7tYsG1APaqfm0f/am8dTizOfn1/IvF/g0WIJbrTVGYU9a9zX1ma+s6iH4YVsDdEAVY905bGzo/OmsbznWuZ4iD8fr8mOL18RbpOnXf6zQkhM3j//Lv5/Gi6os9P7pYD4q6repqkeaPFz3fHTea0ImtsRh0pTLohcZhqh0kq7Nnj0tCgUox1mxtIKZTw/Klvl7Xd23tGBgAsOroP3sPbm6ws/bb4/Go42knm67Tz8yo34mbovYFbT0uKZbJ1njdAGth0QvOp+dbYbHLm3zb9nDZ8KxWRVm/KM2/mwUIiIAVLMvM7jQuy2XrYWfHtTpN559tdg8GO165LqSvHMkVdvJau5F0GRjpUgNpEdd2OOjYs1k+7ORLJeo1Va8T2b4OgFkwjPHqJ3+082V7Vt+MpDVKVU2ycO8cDG8Hq01pdaelVxnveqIfsrzqKCOZFePDIi2C/q5vhn9VbUexyJcXAPZ1wsrXCZksMmO1YfjxR2lCArb+RpqAWC12+4O7rLwsFZg8OJnN/RujDoSbCrfcEwCt+7x/VDpx6DX53cvi+WT0q2dIhK9T9b1JzkcaLVZ/E7aHH9itiZxok6wS0xZYu3VdG+O4afJs6kBH4OXpiTdqDSNuhXOzvZvkwCSnzoO/WsnpE7o6Aru+k9eL2SxJDdxA3SxtKNOJjrTJzpe+QxXoFNElX6zm+VzsWqea/vyive1vo6EDqWr7/arIKGWeH87XyZsVja+3AIFGMgBA+DycNHobRP7xtOl5EEq0ogXkLjZ5kgWeZ6rVdmWc/Gxku6vEdnpREEWFrpk0SWMlKPYdBI1AzH6lDNanMxn+4TzOz56Hg8HItXXQ1bbZ5psyWd9oh6CA60uXU8Zp+sjupXGHVMqqKl81FhW8zvxvBoAXqg8CsFtuJPqHRofD/RaqZZtbBlDW1enTVqstrOJRnerOphMNi8tSp2F7eLGuzOyTLQlL/DX6lbcBvDxvCPSXND+8uwnraerttQoWmSrfPH9W7UahrZywNZiWiyaf5AORnWXdalvofPnJaUbmTYLStwC8bA0gwll5ManZaXTDAwOtWKWXRxcHd243yVa3u6NRStW2RJicT7dVKXSz+PLZ+u0S+3e+X4DAcJvO3H+lt1MPVLkLebM42rv7YVd/thHj9m5e119wqGXUfWqex9AUi21t4S3v/x4ABIRCa/r59+t8vaiF2ynSonvr4Vg9vyDR8VoHulmt9NryxmxkWm5LZi23b/K/9wN4sXXRlz/2Ookzv9FxxeooPhjC+ksVh00wEUntFumaVlXNqNmUCADmreL69wFABCCmNsn0jIdud8N+ZSK5rY9Lx+F2Ichd5vVFvJydUm5rQ0TvdMnjPQCIEBGNBL3BNH8aRihEavlZ0bNNkjOvWGd6UVRpXZQaABi9Rdj/3gAARICgkYBUAgDtsN661CjHOtJKXB2t9byqLVoiJPY273vR3vOaDxK+0PsCErOuIOFEkWOYsWKRlWQMAbKrje47PvH9AK6KEmgBEAktIyQukOxVPg8GAPBbEoG/TwAA/LroxQikQoscyBIj4l9Vgt799f+OjV1deEPEr77C1SU4/h6v9Z1v2wEAfHV/hF6+y4IA1+X//5DtxeXDfzLtnxLLP077u73wd/vvlyfaP9qke237/27I/57b/wW5sIF5CuHbvAAAAABJRU5ErkJggg==\"/>\n",
              "            <a href=\"#!\">\n",
              "                <span class=\"ipyplot-img-close\"/>\n",
              "            </a>\n",
              "            <a href=\"#ipyplot-content-div-5dVgemCga3UVwKnxBLY33m-o4kSU4D8DsrUHM2hru3FzA\">\n",
              "                <span class=\"ipyplot-img-expand\"/>\n",
              "            </a>\n",
              "        </div>\n",
              "    </div>\n",
              "    </div>\n",
              "        </textarea>\n",
              "    </div>\n",
              "    "
            ]
          },
          "metadata": {}
        },
        {
          "output_type": "display_data",
          "data": {
            "text/plain": [
              "<IPython.core.display.HTML object>"
            ],
            "text/html": [
              "\n",
              "        <style>\n",
              "        #ipyplot-imgs-container-div-5dVgemCga3UVwKnxBLY33m {\n",
              "            width: 100%;\n",
              "            height: 100%;\n",
              "            margin: 0%;\n",
              "            overflow: auto;\n",
              "            position: relative;\n",
              "            overflow-y: scroll;\n",
              "        }\n",
              "\n",
              "        div.ipyplot-placeholder-div-5dVgemCga3UVwKnxBLY33m {\n",
              "            width: 400px;\n",
              "            display: inline-block;\n",
              "            margin: 3px;\n",
              "            position: relative;\n",
              "        }\n",
              "\n",
              "        div.ipyplot-content-div-5dVgemCga3UVwKnxBLY33m {\n",
              "            width: 400px;\n",
              "            background: white;\n",
              "            display: inline-block;\n",
              "            vertical-align: top;\n",
              "            text-align: center;\n",
              "            position: relative;\n",
              "            border: 2px solid #ddd;\n",
              "            top: 0;\n",
              "            left: 0;\n",
              "        }\n",
              "\n",
              "        div.ipyplot-content-div-5dVgemCga3UVwKnxBLY33m span.ipyplot-img-close {\n",
              "            display: none;\n",
              "        }\n",
              "\n",
              "        div.ipyplot-content-div-5dVgemCga3UVwKnxBLY33m span {\n",
              "            width: 100%;\n",
              "            height: 100%;\n",
              "            position: absolute;\n",
              "            top: 0;\n",
              "            left: 0;\n",
              "        }\n",
              "\n",
              "        div.ipyplot-content-div-5dVgemCga3UVwKnxBLY33m img {\n",
              "            width: 400px;\n",
              "        }\n",
              "\n",
              "        div.ipyplot-content-div-5dVgemCga3UVwKnxBLY33m span.ipyplot-img-close:hover {\n",
              "            cursor: zoom-out;\n",
              "        }\n",
              "        div.ipyplot-content-div-5dVgemCga3UVwKnxBLY33m span.ipyplot-img-expand:hover {\n",
              "            cursor: zoom-in;\n",
              "        }\n",
              "\n",
              "        div[id^=ipyplot-content-div-5dVgemCga3UVwKnxBLY33m]:target {\n",
              "            transform: scale(2.5);\n",
              "            transform-origin: left top;\n",
              "            z-index: 5000;\n",
              "            top: 0;\n",
              "            left: 0;\n",
              "            position: absolute;\n",
              "        }\n",
              "\n",
              "        div[id^=ipyplot-content-div-5dVgemCga3UVwKnxBLY33m]:target span.ipyplot-img-close {\n",
              "            display: block;\n",
              "        }\n",
              "\n",
              "        div[id^=ipyplot-content-div-5dVgemCga3UVwKnxBLY33m]:target span.ipyplot-img-expand {\n",
              "            display: none;\n",
              "        }\n",
              "        </style>\n",
              "    <div id=\"ipyplot-imgs-container-div-5dVgemCga3UVwKnxBLY33m\">\n",
              "    <div class=\"ipyplot-placeholder-div-5dVgemCga3UVwKnxBLY33m\">\n",
              "        <div id=\"ipyplot-content-div-5dVgemCga3UVwKnxBLY33m-Qrxok3wrgAcfTwcUkTPE9v\" class=\"ipyplot-content-div-5dVgemCga3UVwKnxBLY33m\">\n",
              "            <h4 style=\"font-size: 12px; word-wrap: break-word;\">Original</h4>\n",
              "            <img src=\"data:image/png;base64,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\"/>\n",
              "            <a href=\"#!\">\n",
              "                <span class=\"ipyplot-img-close\"/>\n",
              "            </a>\n",
              "            <a href=\"#ipyplot-content-div-5dVgemCga3UVwKnxBLY33m-Qrxok3wrgAcfTwcUkTPE9v\">\n",
              "                <span class=\"ipyplot-img-expand\"/>\n",
              "            </a>\n",
              "        </div>\n",
              "    </div>\n",
              "    \n",
              "    <div class=\"ipyplot-placeholder-div-5dVgemCga3UVwKnxBLY33m\">\n",
              "        <div id=\"ipyplot-content-div-5dVgemCga3UVwKnxBLY33m-dHT9UapTCgAcPzy2wW6g5n\" class=\"ipyplot-content-div-5dVgemCga3UVwKnxBLY33m\">\n",
              "            <h4 style=\"font-size: 12px; word-wrap: break-word;\">Horizontally flipped</h4>\n",
              "            <img src=\"data:image/png;base64,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\"/>\n",
              "            <a href=\"#!\">\n",
              "                <span class=\"ipyplot-img-close\"/>\n",
              "            </a>\n",
              "            <a href=\"#ipyplot-content-div-5dVgemCga3UVwKnxBLY33m-dHT9UapTCgAcPzy2wW6g5n\">\n",
              "                <span class=\"ipyplot-img-expand\"/>\n",
              "            </a>\n",
              "        </div>\n",
              "    </div>\n",
              "    \n",
              "    <div class=\"ipyplot-placeholder-div-5dVgemCga3UVwKnxBLY33m\">\n",
              "        <div id=\"ipyplot-content-div-5dVgemCga3UVwKnxBLY33m-o4kSU4D8DsrUHM2hru3FzA\" class=\"ipyplot-content-div-5dVgemCga3UVwKnxBLY33m\">\n",
              "            <h4 style=\"font-size: 12px; word-wrap: break-word;\">Rotated</h4>\n",
              "            <img src=\"data:image/png;base64,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\"/>\n",
              "            <a href=\"#!\">\n",
              "                <span class=\"ipyplot-img-close\"/>\n",
              "            </a>\n",
              "            <a href=\"#ipyplot-content-div-5dVgemCga3UVwKnxBLY33m-o4kSU4D8DsrUHM2hru3FzA\">\n",
              "                <span class=\"ipyplot-img-expand\"/>\n",
              "            </a>\n",
              "        </div>\n",
              "    </div>\n",
              "    </div>"
            ]
          },
          "metadata": {}
        }
      ]
    },
    {
      "cell_type": "markdown",
      "source": [
        "## Implement Data Augmentation\n",
        "\n",
        "Now that we know these functions work and are achieving the desired results, we can loop through the images in our dataset to apply the image mirroring and rotation accross the entire dataset. The resulting augmented data will be stored in the specified folder.\n",
        "\n",
        "NOTE: As the data is separated into folders by class, this process is only applied to a single folder. As this code only needs to be run once to implement the data augmentation, the file paths can simply be changed to apply the augmentation to another folder and save this augmentation in its own new folder. The destination folder should exist before the code is run."
      ],
      "metadata": {
        "id": "iTorV1wYXG0p"
      }
    },
    {
      "cell_type": "code",
      "source": [
        "# Completed\n",
        "#   - Mild Demented \n",
        "#   - Moderate Demented\n",
        "#   - Non Demented\n",
        "#   - Very Mild Demented"
      ],
      "metadata": {
        "id": "VjgY6gvRae-y"
      },
      "execution_count": null,
      "outputs": []
    },
    {
      "cell_type": "code",
      "source": [
        "# Augmentation for Mild Demented Class\n",
        "\n",
        "import os\n",
        "img_dir = '/content/gdrive/My Drive/ML_FinalProject/Dataset/Mild_Demented/'\n",
        "for path, subdirs, files in os.walk(img_dir):\n",
        "    images = os.listdir(path)  #List of all image names in this subdirectory\n",
        "    print(len(images))\n",
        "    for i, image_name in enumerate(images): \n",
        "\n",
        "      # Original Image\n",
        "      img = cv2.imread(path+\"/\"+image_name, 1)\n",
        "      cv2.imwrite('/content/gdrive/My Drive/ML_FinalProject/Augmented_Dataset/Mild_Demented/mild_' + str(i) + '.jpg', img)\n",
        "\n",
        "      # Horizontal Flip\n",
        "      hflip= iaa.Fliplr(p=1.0)\n",
        "      img_flip = hflip.augment_image(img)\n",
        "      cv2.imwrite('/content/gdrive/My Drive/ML_FinalProject/Augmented_Dataset/Mild_Demented/mild_flip_' + str(i) + '.jpg', img_flip)\n",
        "\n",
        "      # Rotation\n",
        "      rot1 = iaa.Affine(rotate=(-50,20))\n",
        "      img_rot = rot1.augment_image(img)\n",
        "      cv2.imwrite('/content/gdrive/My Drive/ML_FinalProject/Augmented_Dataset/Mild_Demented/mild_rot_' + str(i) + '.jpg', img_rot)"
      ],
      "metadata": {
        "colab": {
          "base_uri": "https://localhost:8080/"
        },
        "id": "153H-gG9QeL1",
        "outputId": "2b05c72f-dc46-456d-a209-fdaca50ef14a"
      },
      "execution_count": 12,
      "outputs": [
        {
          "output_type": "stream",
          "name": "stdout",
          "text": [
            "896\n"
          ]
        }
      ]
    },
    {
      "cell_type": "code",
      "source": [
        "# Augmentation for Moderate Demented Class\n",
        "\n",
        "import os\n",
        "img_dir = '/content/gdrive/My Drive/ML_FinalProject/Dataset/Moderate_Demented/'\n",
        "for path, subdirs, files in os.walk(img_dir):\n",
        "    images = os.listdir(path)  #List of all image names in this subdirectory\n",
        "    print(len(images))\n",
        "    for i, image_name in enumerate(images): \n",
        "\n",
        "      # Original Image\n",
        "      img = cv2.imread(path+\"/\"+image_name, 1)\n",
        "      cv2.imwrite('/content/gdrive/My Drive/ML_FinalProject/Augmented_Dataset/Moderate_Demented/moderate_' + str(i) + '.jpg', img)\n",
        "\n",
        "      # Horizontal Flip\n",
        "      hflip= iaa.Fliplr(p=1.0)\n",
        "      img_flip = hflip.augment_image(img)\n",
        "      cv2.imwrite('/content/gdrive/My Drive/ML_FinalProject/Augmented_Dataset/Moderate_Demented/moderate_flip_' + str(i) + '.jpg', img_flip)\n",
        "\n",
        "      # Rotation\n",
        "      rot1 = iaa.Affine(rotate=(-50,20))\n",
        "      img_rot = rot1.augment_image(img)\n",
        "      cv2.imwrite('/content/gdrive/My Drive/ML_FinalProject/Augmented_Dataset/Moderate_Demented/moderate_rot_' + str(i) + '.jpg', img_rot)"
      ],
      "metadata": {
        "colab": {
          "base_uri": "https://localhost:8080/"
        },
        "id": "o-R-C6OhkEj1",
        "outputId": "b301914d-25de-46e2-b3ba-2882b7db8c89"
      },
      "execution_count": 7,
      "outputs": [
        {
          "output_type": "stream",
          "name": "stdout",
          "text": [
            "64\n"
          ]
        }
      ]
    },
    {
      "cell_type": "code",
      "source": [
        "# Augmentation for Non Demented Class\n",
        "\n",
        "import os\n",
        "img_dir = '/content/gdrive/My Drive/ML_FinalProject/Dataset/Non_Demented/'\n",
        "for path, subdirs, files in os.walk(img_dir):\n",
        "    images = os.listdir(path)  #List of all image names in this subdirectory\n",
        "    print(len(images))\n",
        "    for i, image_name in enumerate(images): \n",
        "\n",
        "      # Original Image\n",
        "      img = cv2.imread(path+\"/\"+image_name, 1)\n",
        "      cv2.imwrite('/content/gdrive/My Drive/ML_FinalProject/Augmented_Dataset/Non_Demented/non_' + str(i) + '.jpg', img)\n",
        "\n",
        "      # Horizontal Flip\n",
        "      hflip= iaa.Fliplr(p=1.0)\n",
        "      img_flip = hflip.augment_image(img)\n",
        "      cv2.imwrite('/content/gdrive/My Drive/ML_FinalProject/Augmented_Dataset/Non_Demented/non_flip_' + str(i) + '.jpg', img_flip)\n",
        "\n",
        "      # Rotation\n",
        "      rot1 = iaa.Affine(rotate=(-50,20))\n",
        "      img_rot = rot1.augment_image(img)\n",
        "      cv2.imwrite('/content/gdrive/My Drive/ML_FinalProject/Augmented_Dataset/Non_Demented/non_rot_' + str(i) + '.jpg', img_rot)"
      ],
      "metadata": {
        "colab": {
          "base_uri": "https://localhost:8080/"
        },
        "id": "3SbaVTBhk-X1",
        "outputId": "077d2470-c44a-4127-f927-5f86c385490c"
      },
      "execution_count": 8,
      "outputs": [
        {
          "output_type": "stream",
          "name": "stdout",
          "text": [
            "3200\n"
          ]
        }
      ]
    },
    {
      "cell_type": "code",
      "source": [
        "# Augmentation for Very Mild Demented Class\n",
        "\n",
        "import os\n",
        "img_dir = '/content/gdrive/My Drive/ML_FinalProject/Dataset/Very_Mild_Demented/'\n",
        "for path, subdirs, files in os.walk(img_dir):\n",
        "    images = os.listdir(path)  #List of all image names in this subdirectory\n",
        "    print(len(images))\n",
        "    for i, image_name in enumerate(images): \n",
        "\n",
        "      # Original Image\n",
        "      img = cv2.imread(path+\"/\"+image_name, 1)\n",
        "      cv2.imwrite('/content/gdrive/My Drive/ML_FinalProject/Augmented_Dataset/Very_Mild_Demented/verymild_' + str(i) + '.jpg', img)\n",
        "\n",
        "      # Horizontal Flip\n",
        "      hflip= iaa.Fliplr(p=1.0)\n",
        "      img_flip = hflip.augment_image(img)\n",
        "      cv2.imwrite('/content/gdrive/My Drive/ML_FinalProject/Augmented_Dataset/Very_Mild_Demented/verymild_flip_' + str(i) + '.jpg', img_flip)\n",
        "\n",
        "      # Rotation\n",
        "      rot1 = iaa.Affine(rotate=(-50,20))\n",
        "      img_rot = rot1.augment_image(img)\n",
        "      cv2.imwrite('/content/gdrive/My Drive/ML_FinalProject/Augmented_Dataset/Very_Mild_Demented/verymild_rot_' + str(i) + '.jpg', img_rot)"
      ],
      "metadata": {
        "colab": {
          "base_uri": "https://localhost:8080/"
        },
        "id": "pgZupABHleNM",
        "outputId": "b7d73210-0247-4d27-ab68-3a4e82195ba5"
      },
      "execution_count": 15,
      "outputs": [
        {
          "output_type": "stream",
          "name": "stdout",
          "text": [
            "2240\n"
          ]
        }
      ]
    }
  ]
}