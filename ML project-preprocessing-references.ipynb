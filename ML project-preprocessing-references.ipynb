{
 "cells": [
  {
   "cell_type": "code",
   "execution_count": null,
   "id": "1125e5fc",
   "metadata": {},
   "outputs": [],
   "source": [
    "https://www.tensorflow.org/tensorboard/image_summaries"
   ]
  },
  {
   "cell_type": "code",
   "execution_count": null,
   "id": "0841bce2",
   "metadata": {},
   "outputs": [],
   "source": [
    "https://www.kaggle.com/code/monkira/brain-mri-segmentation-using-unet-keras"
   ]
  },
  {
   "cell_type": "code",
   "execution_count": null,
   "id": "86e91310",
   "metadata": {},
   "outputs": [],
   "source": [
    "https://towardsdatascience.com/convert-images-to-tensors-in-pytorch-and-tensorflow-f0ab01383a03"
   ]
  },
  {
   "cell_type": "code",
   "execution_count": null,
   "id": "43ecb9f9",
   "metadata": {},
   "outputs": [],
   "source": [
    "all the alzheimers symptoms are closer to the eyes \n",
    "https://www.sciencedirect.com/science/article/pii/S0846537113000417"
   ]
  },
  {
   "cell_type": "code",
   "execution_count": null,
   "id": "24a9f814",
   "metadata": {},
   "outputs": [],
   "source": [
    "how medical images work with machine learning\n",
    "https://www.youtube.com/watch?v=9Ga9pn9M-MQ"
   ]
  },
  {
   "cell_type": "code",
   "execution_count": null,
   "id": "f3868891",
   "metadata": {},
   "outputs": [],
   "source": [
    "python packages for brain imaging\n",
    "https://www.youtube.com/watch?v=4FVGn8vodkc"
   ]
  },
  {
   "cell_type": "code",
   "execution_count": null,
   "id": "206e16cd",
   "metadata": {},
   "outputs": [],
   "source": [
    "denoising medical images \n",
    "https://www.youtube.com/watch?v=ur6pi3L98kk&t=1575s\n",
    "    \n",
    "    \n",
    "    raw images sometimes need to be smoothed out with a denoising filter like gaussian \n",
    "    but here our images direct from the ADNI dataset, seem to already be denoised and very clean.\n",
    "    #gaussian filter\n",
    "    from scipy import ndimage as nd\n",
    "    gaussian image= nd.gaussian_filter(noisy_img, sigma=5)"
   ]
  },
  {
   "cell_type": "code",
   "execution_count": null,
   "id": "e38ae8ab",
   "metadata": {},
   "outputs": [],
   "source": [
    "skull finder function from nipype\n",
    "\n",
    "https://nipype.readthedocs.io/en/0.12.0/interfaces/generated/nipype.interfaces.brainsuite.brainsuite.html#skullfinder"
   ]
  },
  {
   "cell_type": "code",
   "execution_count": null,
   "id": "9f124180",
   "metadata": {},
   "outputs": [],
   "source": [
    "otsu's method for removing the skull.\n",
    "https://stackoverflow.com/questions/49834264/mri-brain-tumor-image-processing-and-segmentation-skull-removing\n",
    "    citation:\n",
    "        Richard Barnes. (2018). Using Otsu's method for skull-brain segmentation (v1.0.1). Zenodo. https://doi.org/10.5281/zenodo.6042312"
   ]
  },
  {
   "cell_type": "code",
   "execution_count": null,
   "id": "81f1c6ea",
   "metadata": {},
   "outputs": [],
   "source": [
    "another way to resize is through tensorflow directly\n",
    "\n",
    "size = (128, 128)\n",
    "\n",
    "tf.keras.preprocessing.image.smart_resize(\n",
    "    img, size, interpolation='bilinear'\n",
    ")"
   ]
  },
  {
   "cell_type": "code",
   "execution_count": null,
   "id": "b4858b58",
   "metadata": {},
   "outputs": [],
   "source": [
    "command line tool for skull stripping\n",
    "https://surfer.nmr.mgh.harvard.edu/docs/synthstrip/\n",
    "    \n",
    "    SynthStrip: Skull-Stripping for Any Brain Image\n",
    "A Hoopes, JS Mora, AV Dalca, B Fischl, M Hoffmann\n",
    "NeuroImage 206 (2022), 119474\n",
    "https://doi.org/10.1016/j.neuroimage.2022.119474 "
   ]
  },
  {
   "cell_type": "code",
   "execution_count": null,
   "id": "2f3e6a6f",
   "metadata": {},
   "outputs": [],
   "source": [
    "CONVERTING A NIFTI file (3D) to Dicoms\n",
    "https://ianmcatee.com/converting-a-nifti-file-to-an-image-sequence-using-python/"
   ]
  }
 ],
 "metadata": {
  "kernelspec": {
   "display_name": "Python 3 (ipykernel)",
   "language": "python",
   "name": "python3"
  },
  "language_info": {
   "codemirror_mode": {
    "name": "ipython",
    "version": 3
   },
   "file_extension": ".py",
   "mimetype": "text/x-python",
   "name": "python",
   "nbconvert_exporter": "python",
   "pygments_lexer": "ipython3",
   "version": "3.8.15"
  }
 },
 "nbformat": 4,
 "nbformat_minor": 5
}
